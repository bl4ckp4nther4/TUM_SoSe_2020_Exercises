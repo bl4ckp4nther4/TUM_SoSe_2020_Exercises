{
 "metadata": {
  "language_info": {
   "codemirror_mode": {
    "name": "ipython",
    "version": 3
   },
   "file_extension": ".py",
   "mimetype": "text/x-python",
   "name": "python",
   "nbconvert_exporter": "python",
   "pygments_lexer": "ipython3",
   "version": "3.8.2-final"
  },
  "orig_nbformat": 2,
  "kernelspec": {
   "name": "python38264bit770bca2088e1422ebab609ac9559ddc7",
   "display_name": "Python 3.8.2 64-bit"
  }
 },
 "nbformat": 4,
 "nbformat_minor": 2,
 "cells": [
  {
   "cell_type": "markdown",
   "metadata": {},
   "source": [
    "Calculating the area needed for the energy use of one person satisfied only by biofuels\n"
   ]
  },
  {
   "cell_type": "code",
   "execution_count": 18,
   "metadata": {
    "tags": []
   },
   "outputs": [
    {
     "output_type": "stream",
     "name": "stdout",
     "text": "Constant power needed to sustain the energy need of one person: 2314.814814814815 Watts\nPower provided on average by farmland:  2.0 Watts per square meter\nArea of Farmland needed: 1157.4074074074074\n"
    }
   ],
   "source": [
    "import numericalunits as nu\n",
    "nu.reset_units('SI')\n",
    "\n",
    "\n",
    "energyUseOnePersonOneDay = 200 * nu.MJ\n",
    "\n",
    "dailySolarRadiation = 200 * nu.W / (nu.m * nu.m)\n",
    "\n",
    "energyConversionEfficiency = 0.01\n",
    "\n",
    "powerNeeded = energyUseOnePersonOneDay / (1 * nu.day)\n",
    "\n",
    "print(\"Constant power needed to sustain the energy need of one person:\", powerNeeded/nu.W, \"Watts\")\n",
    "\n",
    "\n",
    "powerPerSquareMeter = dailySolarRadiation * energyConversionEfficiency\n",
    "\n",
    "print(\"Power provided on average by farmland: \", powerPerSquareMeter, \"Watts per square meter\")\n",
    "\n",
    "areaNeeded = powerNeeded/powerPerSquareMeter\n",
    "\n",
    "print(\"Area of Farmland needed:\", (areaNeeded/(nu.m * nu.m)))\n"
   ]
  },
  {
   "cell_type": "code",
   "execution_count": null,
   "metadata": {},
   "outputs": [],
   "source": []
  }
 ]
}